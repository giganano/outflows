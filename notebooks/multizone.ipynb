{
 "cells": [
  {
   "cell_type": "code",
   "execution_count": 1,
   "id": "356b5bd5",
   "metadata": {},
   "outputs": [
    {
     "name": "stdout",
     "output_type": "stream",
     "text": [
      "sys.version_info(major=3, minor=10, micro=2, releaselevel='final', serial=0)\n"
     ]
    },
    {
     "name": "stderr",
     "output_type": "stream",
     "text": [
      "/Users/astrobeard/Work/Research/VICErepos/VICE/vice/__init__.py:141: UserWarning: Using un-released version of VICE\n",
      "  warnings.warn(\"Using un-released version of VICE\", UserWarning)\n"
     ]
    }
   ],
   "source": [
    "from plots.mpltoolkit import mpl_loc, named_colors, markers, fancy_legend, load_mpl_presets\n",
    "import matplotlib.pyplot as plt\n",
    "import matplotlib.colors as colors\n",
    "import matplotlib.cm as cmx\n",
    "import numpy as np\n",
    "import warnings\n",
    "import random\n",
    "import vice\n",
    "import sys\n",
    "load_mpl_presets()\n",
    "warnings.filterwarnings(\"ignore\")\n",
    "print(sys.version_info)"
   ]
  },
  {
   "cell_type": "code",
   "execution_count": 2,
   "id": "a25f1440",
   "metadata": {},
   "outputs": [],
   "source": [
    "outputs = [\n",
    "    \"../outputs/inside-out/vrad0\",\n",
    "    \"../outputs/inside-out/vrad1\",\n",
    "    \"../outputs/inside-out/vrad2\",\n",
    "    \"../outputs/inside-out/vrad3\"\n",
    "]\n",
    "radial_velocities = [0, -1, -2, -3]\n",
    "outputs = [vice.multioutput(_) for _ in outputs]\n",
    "for out in outputs:\n",
    "    extra = np.genfromtxt(\"%s_analogdata.out\" % (out.name))\n",
    "    zfinal = [row[-1] for row in extra]\n",
    "    out.stars[\"absz\"] = [abs(z) for z in zfinal][:out.stars.size[0]]"
   ]
  },
  {
   "cell_type": "code",
   "execution_count": 3,
   "id": "8aa2907f",
   "metadata": {},
   "outputs": [
    {
     "name": "stdout",
     "output_type": "stream",
     "text": [
      "0 9 N stellar pops: 74015\n",
      "10 19 N stellar pops: 68022\n",
      "20 29 N stellar pops: 55607\n",
      "30 39 N stellar pops: 60567\n",
      "40 49 N stellar pops: 50389\n",
      "50 59 N stellar pops: 49975\n",
      "60 69 N stellar pops: 54548\n",
      "70 79 N stellar pops: 52922\n",
      "80 89 N stellar pops: 48317\n",
      "90 99 N stellar pops: 35997\n",
      "100 109 N stellar pops: 31680\n",
      "110 119 N stellar pops: 24314\n",
      "120 129 N stellar pops: 16605\n",
      "130 139 N stellar pops: 11763\n",
      "140 149 N stellar pops: 8542\n",
      "0 9 N stellar pops: 73790\n",
      "10 19 N stellar pops: 74308\n",
      "20 29 N stellar pops: 63175\n",
      "30 39 N stellar pops: 64714\n",
      "40 49 N stellar pops: 55481\n",
      "50 59 N stellar pops: 50427\n",
      "60 69 N stellar pops: 52584\n",
      "70 79 N stellar pops: 47502\n",
      "80 89 N stellar pops: 40201\n",
      "90 99 N stellar pops: 43585\n",
      "100 109 N stellar pops: 34364\n",
      "110 119 N stellar pops: 28212\n",
      "120 129 N stellar pops: 22094\n",
      "130 139 N stellar pops: 20492\n",
      "140 149 N stellar pops: 18492\n",
      "0 9 N stellar pops: 77117\n",
      "10 19 N stellar pops: 78444\n",
      "20 29 N stellar pops: 72186\n",
      "30 39 N stellar pops: 69627\n",
      "40 49 N stellar pops: 57747\n",
      "50 59 N stellar pops: 58757\n",
      "60 69 N stellar pops: 56507\n",
      "70 79 N stellar pops: 50890\n",
      "80 89 N stellar pops: 47659\n",
      "90 99 N stellar pops: 37112\n",
      "100 109 N stellar pops: 30258\n",
      "110 119 N stellar pops: 23121\n",
      "120 129 N stellar pops: 16923\n",
      "130 139 N stellar pops: 11117\n",
      "140 149 N stellar pops: 8563\n",
      "0 9 N stellar pops: 71100\n",
      "10 19 N stellar pops: 66206\n",
      "20 29 N stellar pops: 65085\n",
      "30 39 N stellar pops: 62117\n",
      "40 49 N stellar pops: 56656\n",
      "50 59 N stellar pops: 51852\n",
      "60 69 N stellar pops: 42832\n",
      "70 79 N stellar pops: 39968\n",
      "80 89 N stellar pops: 37940\n",
      "90 99 N stellar pops: 36223\n",
      "100 109 N stellar pops: 29106\n",
      "110 119 N stellar pops: 24312\n",
      "120 129 N stellar pops: 17812\n",
      "130 139 N stellar pops: 11377\n",
      "140 149 N stellar pops: 9773\n"
     ]
    },
    {
     "data": {
      "image/png": "[encoded data removed]",
      "text/plain": [
       "<Figure size 720x360 with 2 Axes>"
      ]
     },
     "metadata": {},
     "output_type": "display_data"
    }
   ],
   "source": [
    "fig = plt.figure(figsize = (10, 5))\n",
    "ax1 = fig.add_subplot(121)\n",
    "ax2 = fig.add_subplot(122)\n",
    "for ax in [ax1, ax2]:\n",
    "    ax.set_xlabel(r\"$R_\\text{gal}$ [kpc]\")\n",
    "    ax.set_xlim([-1, 16])\n",
    "    ax.set_ylim([-0.7, 0.7])\n",
    "ax1.set_ylabel(\"[O/H]\")\n",
    "ax2.set_ylabel(\"[Fe/H]\")\n",
    "\n",
    "def mode(bins, dist):\n",
    "    idxmax = dist.index(max(dist))\n",
    "    return (bins[idxmax] + bins[idxmax + 1]) / 2\n",
    "\n",
    "zone_width = 0.1\n",
    "radial_bins = list(range(0, 16, 1))\n",
    "colors = [\"black\", \"crimson\", \"lime\", \"blue\"]\n",
    "\n",
    "for i, out in enumerate(outputs):\n",
    "    for j in range(len(radial_bins) - 1):\n",
    "        inner_zone = int(radial_bins[j] / zone_width)\n",
    "        outer_zone = int(radial_bins[j + 1] / zone_width - 1)\n",
    "        stars = out.stars.filter(\n",
    "            \"zone_final\", \">=\", inner_zone).filter(\n",
    "            \"zone_final\", \"<=\", outer_zone).filter(\n",
    "            \"absz\", \"<=\", 0.5).filter(\n",
    "            \"mass\", \">=\", 1)\n",
    "        print(inner_zone, outer_zone, \"N stellar pops: %d\" % (len(stars[\"absz\"])))\n",
    "        bins = [-3 + 0.01 * _ for _ in range(601)]\n",
    "        mdf, _ = np.histogram(stars[\"[o/h]\"], bins = bins, density = True, weights = stars[\"mass\"])\n",
    "        mode_ = mode(bins, mdf.tolist())\n",
    "        radius = (radial_bins[j] + radial_bins[j + 1]) / 2\n",
    "        kwargs = {\n",
    "            \"c\": named_colors()[colors[i]],\n",
    "            \"marker\": markers()[\"star\"], \n",
    "            \"s\": 40\n",
    "        }\n",
    "        ax1.scatter(radius, mode_, **kwargs)\n",
    "        mdf, _ = np.histogram(stars[\"[fe/h]\"], bins = bins, density = True, weights = stars[\"mass\"])\n",
    "        mode_ = mode(bins, mdf.tolist())\n",
    "        radius = (radial_bins[j] + radial_bins[j + 1]) / 2\n",
    "        ax2.scatter(radius, mode_, **kwargs)\n",
    "\n",
    "plt.tight_layout()\n",
    "plt.show()"
   ]
  },
  {
   "cell_type": "code",
   "execution_count": null,
   "id": "f6dc58bd",
   "metadata": {},
   "outputs": [],
   "source": []
  }
 ],
 "metadata": {
  "kernelspec": {
   "display_name": "Python [conda env:py3.10] *",
   "language": "python",
   "name": "conda-env-py3.10-py"
  },
  "language_info": {
   "codemirror_mode": {
    "name": "ipython",
    "version": 3
   },
   "file_extension": ".py",
   "mimetype": "text/x-python",
   "name": "python",
   "nbconvert_exporter": "python",
   "pygments_lexer": "ipython3",
   "version": "3.10.2"
  }
 },
 "nbformat": 4,
 "nbformat_minor": 5
}
