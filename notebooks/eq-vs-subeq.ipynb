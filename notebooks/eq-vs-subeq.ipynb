{
 "cells": [
  {
   "cell_type": "code",
   "execution_count": 1,
   "id": "25072e2d-fa29-4f74-a59b-9cb90ba9e766",
   "metadata": {},
   "outputs": [
    {
     "name": "stderr",
     "output_type": "stream",
     "text": [
      "/Users/jamesjohnson/Work/Research/lib/public-dev/VICE/vice/__init__.py:141: UserWarning: Using un-released version of VICE\n",
      "  warnings.warn(\"Using un-released version of VICE\", UserWarning)\n"
     ]
    },
    {
     "name": "stdout",
     "output_type": "stream",
     "text": [
      "sys.version_info(major=3, minor=10, micro=13, releaselevel='final', serial=0)\n"
     ]
    }
   ],
   "source": [
    "from plots.mpltoolkit import named_colors, mpl_loc, markers, fancy_legend, load_mpl_presets\n",
    "import matplotlib as mpl\n",
    "import matplotlib.pyplot as plt\n",
    "from scipy.stats import linregress\n",
    "import numpy as np\n",
    "import random\n",
    "import vice\n",
    "import sys\n",
    "sys.path.append(\"..\")\n",
    "from src.stats import skewnormal_mode_sample, jackknife_summary_statistic\n",
    "load_mpl_presets()\n",
    "mpl.rcParams[\"axes.linewidth\"] = 0.5\n",
    "mpl.rcParams[\"figure.titlesize\"] = 14\n",
    "mpl.rcParams[\"axes.titlesize\"] = 14\n",
    "mpl.rcParams[\"axes.labelsize\"] = 14\n",
    "mpl.rcParams[\"xtick.labelsize\"] = 14\n",
    "mpl.rcParams[\"ytick.labelsize\"] = 14\n",
    "mpl.rcParams[\"legend.fontsize\"] = 14\n",
    "print(sys.version_info)"
   ]
  },
  {
   "cell_type": "code",
   "execution_count": 4,
   "id": "d4e3b052-18e2-4041-9ee5-047bcc11a288",
   "metadata": {},
   "outputs": [],
   "source": [
    "eq = vice.output(\"../outputs/inside-out/vrad0\")\n",
    "subeq = vice.output(\"../outputs/simplified/expsfh-eta0\")\n",
    "for out in [eq, subeq]:\n",
    "    extra = np.genfromtxt(\"%s_analogdata.out\" % (out.name))\n",
    "    out.stars[\"absz\"] = [abs(_) for _ in extra[:,-1][:out.stars.size[0]]]\n",
    "eq_stars = eq.stars.filter(\"absz\", \"<=\", 0.5)\n",
    "subeq_stars = subeq.stars.filter(\"absz\", \"<=\", 0.5)"
   ]
  },
  {
   "cell_type": "code",
   "execution_count": null,
   "id": "32ac3173-9b7a-416e-8798-c7f01002c2eb",
   "metadata": {},
   "outputs": [],
   "source": []
  }
 ],
 "metadata": {
  "kernelspec": {
   "display_name": "Python 3 (ipykernel)",
   "language": "python",
   "name": "python3"
  },
  "language_info": {
   "codemirror_mode": {
    "name": "ipython",
    "version": 3
   },
   "file_extension": ".py",
   "mimetype": "text/x-python",
   "name": "python",
   "nbconvert_exporter": "python",
   "pygments_lexer": "ipython3",
   "version": "3.10.13"
  }
 },
 "nbformat": 4,
 "nbformat_minor": 5
}
